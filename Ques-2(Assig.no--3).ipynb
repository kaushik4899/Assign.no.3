{
 "cells": [
  {
   "cell_type": "code",
   "execution_count": 1,
   "id": "887d94f4",
   "metadata": {},
   "outputs": [
    {
     "name": "stdout",
     "output_type": "stream",
     "text": [
      "dcba4321\n"
     ]
    }
   ],
   "source": [
    "# Write a Python program to reverse a string\n",
    "def rev_string(x):\n",
    "    return x[::-1]\n",
    "\n",
    "mytxt = rev_string(\"1234abcd\")\n",
    "\n",
    "print(mytxt)"
   ]
  },
  {
   "cell_type": "code",
   "execution_count": null,
   "id": "b1c91bed",
   "metadata": {},
   "outputs": [],
   "source": []
  }
 ],
 "metadata": {
  "kernelspec": {
   "display_name": "Python 3 (ipykernel)",
   "language": "python",
   "name": "python3"
  },
  "language_info": {
   "codemirror_mode": {
    "name": "ipython",
    "version": 3
   },
   "file_extension": ".py",
   "mimetype": "text/x-python",
   "name": "python",
   "nbconvert_exporter": "python",
   "pygments_lexer": "ipython3",
   "version": "3.9.12"
  }
 },
 "nbformat": 4,
 "nbformat_minor": 5
}
